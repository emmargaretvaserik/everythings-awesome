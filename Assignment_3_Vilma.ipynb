{
 "cells": [
  {
   "cell_type": "code",
   "execution_count": 2,
   "metadata": {},
   "outputs": [],
   "source": [
    "import numpy as np\n",
    "import os\n",
    "from os.path import join"
   ]
  },
  {
   "cell_type": "code",
   "execution_count": 3,
   "metadata": {},
   "outputs": [],
   "source": [
    "#Loading the dataset\n",
    "data_path = join(\"D:/Vilma/UNI/3rd. Semester/Methods_3/Assignment_3\", \"megmag_data.npy\")\n",
    "data = np.load(data_path)"
   ]
  },
  {
   "cell_type": "code",
   "execution_count": 4,
   "metadata": {},
   "outputs": [],
   "source": [
    "#Getting the dimensions of the data\n",
    "num_repitions, num_sensors, num_time_samples = data.shape\n"
   ]
  },
  {
   "cell_type": "code",
   "execution_count": 5,
   "metadata": {},
   "outputs": [],
   "source": [
    "#Creating time array\n",
    "start_time = -200 #ms\n",
    "end_time = 800 #ms\n",
    "sampling_interval = 4 #ms\n",
    "times = np.arange(start_time, end_time + 1, sampling_interval)"
   ]
  },
  {
   "cell_type": "code",
   "execution_count": 7,
   "metadata": {},
   "outputs": [
    {
     "name": "stdout",
     "output_type": "stream",
     "text": [
      "Number of repetitions: 682\n",
      "Number of sensors: 102\n",
      "Number of time samples: 251\n",
      "Time array shape: (251,)\n"
     ]
    }
   ],
   "source": [
    "print(\"Number of repetitions:\", num_repitions)\n",
    "print(\"Number of sensors:\", num_sensors)\n",
    "print(\"Number of time samples:\", num_time_samples)\n",
    "print(\"Time array shape:\", times.shape)"
   ]
  }
 ],
 "metadata": {
  "kernelspec": {
   "display_name": "Python 3",
   "language": "python",
   "name": "python3"
  },
  "language_info": {
   "codemirror_mode": {
    "name": "ipython",
    "version": 3
   },
   "file_extension": ".py",
   "mimetype": "text/x-python",
   "name": "python",
   "nbconvert_exporter": "python",
   "pygments_lexer": "ipython3",
   "version": "3.12.4"
  }
 },
 "nbformat": 4,
 "nbformat_minor": 2
}
